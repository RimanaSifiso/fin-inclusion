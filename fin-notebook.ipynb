{
 "cells": [
  {
   "cell_type": "markdown",
   "id": "6b22df54",
   "metadata": {},
   "source": [
    "Financial Inclusion Zindi Competition\n",
    "---\n",
    "&copy;Rimana Sifiso, Student at the University of Johannesburg\n",
    "May 2024"
   ]
  },
  {
   "cell_type": "markdown",
   "id": "145bd40a",
   "metadata": {},
   "source": [
    "## Libraries"
   ]
  },
  {
   "cell_type": "code",
   "execution_count": 40,
   "id": "7a4c08bd",
   "metadata": {
    "ExecuteTime": {
     "end_time": "2024-05-21T16:05:34.264003Z",
     "start_time": "2024-05-21T16:05:34.256629Z"
    }
   },
   "outputs": [],
   "source": [
    "import pandas as pd\n",
    "import numpy as np\n",
    "import seaborn as sns\n",
    "import matplotlib.pyplot as plt\n",
    "import sklearn as sk\n",
    "import scipy.stats as stats"
   ]
  },
  {
   "cell_type": "markdown",
   "id": "6c1801fc",
   "metadata": {},
   "source": [
    "## Data Loading"
   ]
  },
  {
   "cell_type": "code",
   "execution_count": 2,
   "id": "bcb60d0f",
   "metadata": {
    "ExecuteTime": {
     "end_time": "2024-05-21T14:39:35.788701Z",
     "start_time": "2024-05-21T14:39:35.709697Z"
    }
   },
   "outputs": [],
   "source": [
    "# load data\n",
    "train = pd.read_csv(\"Train.csv\")"
   ]
  },
  {
   "cell_type": "code",
   "execution_count": 3,
   "id": "5c5f08b9",
   "metadata": {
    "ExecuteTime": {
     "end_time": "2024-05-21T14:39:38.497415Z",
     "start_time": "2024-05-21T14:39:38.471361Z"
    }
   },
   "outputs": [
    {
     "data": {
      "text/html": [
       "<div>\n",
       "<style scoped>\n",
       "    .dataframe tbody tr th:only-of-type {\n",
       "        vertical-align: middle;\n",
       "    }\n",
       "\n",
       "    .dataframe tbody tr th {\n",
       "        vertical-align: top;\n",
       "    }\n",
       "\n",
       "    .dataframe thead th {\n",
       "        text-align: right;\n",
       "    }\n",
       "</style>\n",
       "<table border=\"1\" class=\"dataframe\">\n",
       "  <thead>\n",
       "    <tr style=\"text-align: right;\">\n",
       "      <th></th>\n",
       "      <th>country</th>\n",
       "      <th>year</th>\n",
       "      <th>uniqueid</th>\n",
       "      <th>bank_account</th>\n",
       "      <th>location_type</th>\n",
       "      <th>cellphone_access</th>\n",
       "      <th>household_size</th>\n",
       "      <th>age_of_respondent</th>\n",
       "      <th>gender_of_respondent</th>\n",
       "      <th>relationship_with_head</th>\n",
       "      <th>marital_status</th>\n",
       "      <th>education_level</th>\n",
       "      <th>job_type</th>\n",
       "    </tr>\n",
       "  </thead>\n",
       "  <tbody>\n",
       "    <tr>\n",
       "      <th>0</th>\n",
       "      <td>Kenya</td>\n",
       "      <td>2018</td>\n",
       "      <td>uniqueid_1</td>\n",
       "      <td>Yes</td>\n",
       "      <td>Rural</td>\n",
       "      <td>Yes</td>\n",
       "      <td>3</td>\n",
       "      <td>24</td>\n",
       "      <td>Female</td>\n",
       "      <td>Spouse</td>\n",
       "      <td>Married/Living together</td>\n",
       "      <td>Secondary education</td>\n",
       "      <td>Self employed</td>\n",
       "    </tr>\n",
       "    <tr>\n",
       "      <th>1</th>\n",
       "      <td>Kenya</td>\n",
       "      <td>2018</td>\n",
       "      <td>uniqueid_2</td>\n",
       "      <td>No</td>\n",
       "      <td>Rural</td>\n",
       "      <td>No</td>\n",
       "      <td>5</td>\n",
       "      <td>70</td>\n",
       "      <td>Female</td>\n",
       "      <td>Head of Household</td>\n",
       "      <td>Widowed</td>\n",
       "      <td>No formal education</td>\n",
       "      <td>Government Dependent</td>\n",
       "    </tr>\n",
       "    <tr>\n",
       "      <th>2</th>\n",
       "      <td>Kenya</td>\n",
       "      <td>2018</td>\n",
       "      <td>uniqueid_3</td>\n",
       "      <td>Yes</td>\n",
       "      <td>Urban</td>\n",
       "      <td>Yes</td>\n",
       "      <td>5</td>\n",
       "      <td>26</td>\n",
       "      <td>Male</td>\n",
       "      <td>Other relative</td>\n",
       "      <td>Single/Never Married</td>\n",
       "      <td>Vocational/Specialised training</td>\n",
       "      <td>Self employed</td>\n",
       "    </tr>\n",
       "    <tr>\n",
       "      <th>3</th>\n",
       "      <td>Kenya</td>\n",
       "      <td>2018</td>\n",
       "      <td>uniqueid_4</td>\n",
       "      <td>No</td>\n",
       "      <td>Rural</td>\n",
       "      <td>Yes</td>\n",
       "      <td>5</td>\n",
       "      <td>34</td>\n",
       "      <td>Female</td>\n",
       "      <td>Head of Household</td>\n",
       "      <td>Married/Living together</td>\n",
       "      <td>Primary education</td>\n",
       "      <td>Formally employed Private</td>\n",
       "    </tr>\n",
       "    <tr>\n",
       "      <th>4</th>\n",
       "      <td>Kenya</td>\n",
       "      <td>2018</td>\n",
       "      <td>uniqueid_5</td>\n",
       "      <td>No</td>\n",
       "      <td>Urban</td>\n",
       "      <td>No</td>\n",
       "      <td>8</td>\n",
       "      <td>26</td>\n",
       "      <td>Male</td>\n",
       "      <td>Child</td>\n",
       "      <td>Single/Never Married</td>\n",
       "      <td>Primary education</td>\n",
       "      <td>Informally employed</td>\n",
       "    </tr>\n",
       "  </tbody>\n",
       "</table>\n",
       "</div>"
      ],
      "text/plain": [
       "  country  year    uniqueid bank_account location_type cellphone_access  \\\n",
       "0   Kenya  2018  uniqueid_1          Yes         Rural              Yes   \n",
       "1   Kenya  2018  uniqueid_2           No         Rural               No   \n",
       "2   Kenya  2018  uniqueid_3          Yes         Urban              Yes   \n",
       "3   Kenya  2018  uniqueid_4           No         Rural              Yes   \n",
       "4   Kenya  2018  uniqueid_5           No         Urban               No   \n",
       "\n",
       "   household_size  age_of_respondent gender_of_respondent  \\\n",
       "0               3                 24               Female   \n",
       "1               5                 70               Female   \n",
       "2               5                 26                 Male   \n",
       "3               5                 34               Female   \n",
       "4               8                 26                 Male   \n",
       "\n",
       "  relationship_with_head           marital_status  \\\n",
       "0                 Spouse  Married/Living together   \n",
       "1      Head of Household                  Widowed   \n",
       "2         Other relative     Single/Never Married   \n",
       "3      Head of Household  Married/Living together   \n",
       "4                  Child     Single/Never Married   \n",
       "\n",
       "                   education_level                   job_type  \n",
       "0              Secondary education              Self employed  \n",
       "1              No formal education       Government Dependent  \n",
       "2  Vocational/Specialised training              Self employed  \n",
       "3                Primary education  Formally employed Private  \n",
       "4                Primary education        Informally employed  "
      ]
     },
     "execution_count": 3,
     "metadata": {},
     "output_type": "execute_result"
    }
   ],
   "source": [
    "train.head()"
   ]
  },
  {
   "cell_type": "markdown",
   "id": "e86e05e0",
   "metadata": {},
   "source": [
    "## Part 1: EDA and Data Cleaning"
   ]
  },
  {
   "cell_type": "markdown",
   "id": "052cf685",
   "metadata": {},
   "source": [
    "### 1.1 Univariate analysis"
   ]
  },
  {
   "cell_type": "markdown",
   "id": "07834056",
   "metadata": {},
   "source": [
    "#### _Bank Account_\n",
    "\n",
    "This variable tracks whether a respondent has a bank account or not. Evidently, this depends on a lot of factors such as age, level of income, level of education of the respondent, among others. "
   ]
  },
  {
   "cell_type": "code",
   "execution_count": 4,
   "id": "937cf4ee",
   "metadata": {
    "ExecuteTime": {
     "end_time": "2024-05-21T14:40:10.341738Z",
     "start_time": "2024-05-21T14:40:10.325164Z"
    }
   },
   "outputs": [
    {
     "data": {
      "text/plain": [
       "array(['Yes', 'No'], dtype=object)"
      ]
     },
     "execution_count": 4,
     "metadata": {},
     "output_type": "execute_result"
    }
   ],
   "source": [
    "train[\"bank_account\"].unique()"
   ]
  },
  {
   "cell_type": "code",
   "execution_count": 5,
   "id": "153d9170",
   "metadata": {
    "ExecuteTime": {
     "end_time": "2024-05-21T14:40:14.006639Z",
     "start_time": "2024-05-21T14:40:13.996583Z"
    }
   },
   "outputs": [
    {
     "data": {
      "text/plain": [
       "0"
      ]
     },
     "execution_count": 5,
     "metadata": {},
     "output_type": "execute_result"
    }
   ],
   "source": [
    "train[\"bank_account\"].isna().sum()"
   ]
  },
  {
   "cell_type": "code",
   "execution_count": 6,
   "id": "a0975ea2",
   "metadata": {
    "ExecuteTime": {
     "end_time": "2024-05-21T14:40:15.775106Z",
     "start_time": "2024-05-21T14:40:15.751861Z"
    }
   },
   "outputs": [
    {
     "data": {
      "text/plain": [
       "0    Yes\n",
       "1     No\n",
       "2    Yes\n",
       "3     No\n",
       "4     No\n",
       "Name: bank_account, dtype: object"
      ]
     },
     "execution_count": 6,
     "metadata": {},
     "output_type": "execute_result"
    }
   ],
   "source": [
    "train[\"bank_account\"].head()"
   ]
  },
  {
   "cell_type": "code",
   "execution_count": 7,
   "id": "e6bd2ec6",
   "metadata": {
    "ExecuteTime": {
     "end_time": "2024-05-21T14:40:20.833768Z",
     "start_time": "2024-05-21T14:40:20.457146Z"
    }
   },
   "outputs": [
    {
     "data": {
      "text/plain": [
       "<seaborn.axisgrid.FacetGrid at 0x1a180438490>"
      ]
     },
     "execution_count": 7,
     "metadata": {},
     "output_type": "execute_result"
    },
    {
     "data": {
      "image/png": "[encoded data removed]",
      "text/plain": [
       "<Figure size 500x500 with 1 Axes>"
      ]
     },
     "metadata": {},
     "output_type": "display_data"
    }
   ],
   "source": [
    "sns.catplot(data=train, x=\"bank_account\", kind=\"count\")"
   ]
  },
  {
   "cell_type": "code",
   "execution_count": 29,
   "id": "3dbaa7a7",
   "metadata": {
    "ExecuteTime": {
     "end_time": "2024-05-21T15:10:34.111352Z",
     "start_time": "2024-05-21T15:10:34.085351Z"
    }
   },
   "outputs": [
    {
     "name": "stdout",
     "output_type": "stream",
     "text": [
      "Number of Respondents with bank account: 3312\n",
      "Number of respondents with no bank account: 20212\n"
     ]
    },
    {
     "data": {
      "text/html": [
       "<div>\n",
       "<style scoped>\n",
       "    .dataframe tbody tr th:only-of-type {\n",
       "        vertical-align: middle;\n",
       "    }\n",
       "\n",
       "    .dataframe tbody tr th {\n",
       "        vertical-align: top;\n",
       "    }\n",
       "\n",
       "    .dataframe thead th {\n",
       "        text-align: right;\n",
       "    }\n",
       "</style>\n",
       "<table border=\"1\" class=\"dataframe\">\n",
       "  <thead>\n",
       "    <tr style=\"text-align: right;\">\n",
       "      <th></th>\n",
       "      <th>Count</th>\n",
       "      <th>Proportion (%)</th>\n",
       "    </tr>\n",
       "  </thead>\n",
       "  <tbody>\n",
       "    <tr>\n",
       "      <th>Respondents with bank account</th>\n",
       "      <td>3312</td>\n",
       "      <td>14.08</td>\n",
       "    </tr>\n",
       "    <tr>\n",
       "      <th>Respondents with no bank account</th>\n",
       "      <td>20212</td>\n",
       "      <td>85.92</td>\n",
       "    </tr>\n",
       "  </tbody>\n",
       "</table>\n",
       "</div>"
      ],
      "text/plain": [
       "                                  Count  Proportion (%)\n",
       "Respondents with bank account      3312           14.08\n",
       "Respondents with no bank account  20212           85.92"
      ]
     },
     "execution_count": 29,
     "metadata": {},
     "output_type": "execute_result"
    }
   ],
   "source": [
    "# Calculate the number of interviewees with a bank account\n",
    "respondents_with_bank_account = train[train[\"bank_account\"]==\"Yes\"][\"bank_account\"].count()\n",
    "respondents_with_no_bank_account = train[train[\"bank_account\"]==\"No\"][\"bank_account\"].count()\n",
    "total_respondents = len(train)\n",
    "\n",
    "bank_account_distribution_df = \\\n",
    "    pd.DataFrame(\n",
    "        data={\n",
    "            \"Count\":[respondents_with_bank_account,respondents_with_no_bank_account], \n",
    "            \"Proportion (%)\":[\n",
    "                round(respondents_with_bank_account*100/total_respondents, 2), \n",
    "                round(respondents_with_no_bank_account*100/total_respondents,2)\n",
    "            ]\n",
    "        }, \n",
    "        index=[\"Respondents with bank account\", \"Respondents with no bank account\"]\n",
    "    )\n",
    "\n",
    "print(f\"Number of Respondents with bank account: {respondents_with_bank_account}\\n\"\n",
    "      f\"Number of respondents with no bank account: {respondents_with_no_bank_account}\")\n",
    "bank_account_distribution_df"
   ]
  },
  {
   "cell_type": "markdown",
   "id": "89129dca36671aad",
   "metadata": {},
   "source": [
    "Only about $14.08\\%$ of respondents have bank accounts, the other $85.92\\%$ have no bank accounts. Next, we dig deeper at what factors potentially determine respondents to have bank accounts."
   ]
  },
  {
   "cell_type": "markdown",
   "id": "f02741efcdf9b8a0",
   "metadata": {},
   "source": [
    "### Bank account and location type"
   ]
  },
  {
   "cell_type": "code",
   "execution_count": 31,
   "id": "2054e1238d3315e",
   "metadata": {
    "ExecuteTime": {
     "end_time": "2024-05-21T15:17:49.266170Z",
     "start_time": "2024-05-21T15:17:49.243032Z"
    }
   },
   "outputs": [
    {
     "data": {
      "text/plain": [
       "array(['Rural', 'Urban'], dtype=object)"
      ]
     },
     "execution_count": 31,
     "metadata": {},
     "output_type": "execute_result"
    }
   ],
   "source": [
    "train['location_type'].unique()"
   ]
  },
  {
   "cell_type": "code",
   "execution_count": 33,
   "id": "c6efbc399d5542a3",
   "metadata": {
    "ExecuteTime": {
     "end_time": "2024-05-21T15:19:16.408022Z",
     "start_time": "2024-05-21T15:19:16.394349Z"
    }
   },
   "outputs": [
    {
     "data": {
      "text/plain": [
       "0"
      ]
     },
     "execution_count": 33,
     "metadata": {},
     "output_type": "execute_result"
    }
   ],
   "source": [
    "train['location_type'].isna().sum()"
   ]
  },
  {
   "cell_type": "code",
   "execution_count": 34,
   "id": "6f3a8ff171d88d73",
   "metadata": {
    "ExecuteTime": {
     "end_time": "2024-05-21T15:19:28.791190Z",
     "start_time": "2024-05-21T15:19:28.439658Z"
    }
   },
   "outputs": [
    {
     "data": {
      "text/plain": [
       "<seaborn.axisgrid.FacetGrid at 0x1a186f45cf0>"
      ]
     },
     "execution_count": 34,
     "metadata": {},
     "output_type": "execute_result"
    },
    {
     "data": {
      "image/png": "[encoded data removed]",
      "text/plain": [
       "<Figure size 500x500 with 1 Axes>"
      ]
     },
     "metadata": {},
     "output_type": "display_data"
    }
   ],
   "source": [
    "sns.catplot(data=train, x=\"location_type\", kind=\"count\")"
   ]
  },
  {
   "cell_type": "code",
   "execution_count": 35,
   "id": "d9bb200f94c27a40",
   "metadata": {
    "ExecuteTime": {
     "end_time": "2024-05-21T15:23:06.139672Z",
     "start_time": "2024-05-21T15:23:06.104013Z"
    }
   },
   "outputs": [
    {
     "data": {
      "text/html": [
       "<div>\n",
       "<style scoped>\n",
       "    .dataframe tbody tr th:only-of-type {\n",
       "        vertical-align: middle;\n",
       "    }\n",
       "\n",
       "    .dataframe tbody tr th {\n",
       "        vertical-align: top;\n",
       "    }\n",
       "\n",
       "    .dataframe thead th {\n",
       "        text-align: right;\n",
       "    }\n",
       "</style>\n",
       "<table border=\"1\" class=\"dataframe\">\n",
       "  <thead>\n",
       "    <tr style=\"text-align: right;\">\n",
       "      <th></th>\n",
       "      <th>Count</th>\n",
       "      <th>Proportion (%)</th>\n",
       "    </tr>\n",
       "  </thead>\n",
       "  <tbody>\n",
       "    <tr>\n",
       "      <th>Respondents residing in the rural areas</th>\n",
       "      <td>14343</td>\n",
       "      <td>60.97</td>\n",
       "    </tr>\n",
       "    <tr>\n",
       "      <th>Respondents residing in the urban areas</th>\n",
       "      <td>9181</td>\n",
       "      <td>39.03</td>\n",
       "    </tr>\n",
       "  </tbody>\n",
       "</table>\n",
       "</div>"
      ],
      "text/plain": [
       "                                         Count  Proportion (%)\n",
       "Respondents residing in the rural areas  14343           60.97\n",
       "Respondents residing in the urban areas   9181           39.03"
      ]
     },
     "execution_count": 35,
     "metadata": {},
     "output_type": "execute_result"
    }
   ],
   "source": [
    "# Calculate the number of interviewees with a bank account\n",
    "rural = train[train[\"location_type\"]==\"Rural\"][\"location_type\"].count()\n",
    "urban = train[train[\"location_type\"]==\"Urban\"][\"location_type\"].count()\n",
    "\n",
    "\n",
    "location_type_distribution_df = \\\n",
    "    pd.DataFrame(\n",
    "        data={\n",
    "            \"Count\":[rural,urban],\n",
    "            \"Proportion (%)\":[\n",
    "                round(rural*100/total_respondents, 2),\n",
    "                round(urban*100/total_respondents,2)\n",
    "            ]\n",
    "        },\n",
    "        index=[\"Respondents residing in the rural areas\", \"Respondents residing in the urban areas\"]\n",
    "    )\n",
    "\n",
    "location_type_distribution_df"
   ]
  },
  {
   "cell_type": "markdown",
   "id": "9270946aa9e62c8",
   "metadata": {},
   "source": [
    "The distribution of the respondents' location types is relatively balanced and aligns with the geographic distribution commonly seen in many African countries. Specifically, $60.97\\%$ of the respondents reside in rural areas, while $39.03\\%$ live in urban areas. This leads us to a natural question: \"Is there a relationship between the respondents' location type and their bank account ownership?\"\n",
    "\n",
    "If such a relationship exists, it would imply that the variables `location_type` and `bank_account` are statistically dependent. To test this assumption, we will perform a Pearson's Chi-Squared Test for Independence at a $5\\%$ confidence level. Before conducting the statistical test, let's visualize the data using graphics."
   ]
  },
  {
   "cell_type": "code",
   "execution_count": 38,
   "id": "7e5345657592e59e",
   "metadata": {
    "ExecuteTime": {
     "end_time": "2024-05-21T15:49:43.725728Z",
     "start_time": "2024-05-21T15:49:43.355623Z"
    }
   },
   "outputs": [
    {
     "data": {
      "text/plain": [
       "<seaborn.axisgrid.FacetGrid at 0x1a180bf2fb0>"
      ]
     },
     "execution_count": 38,
     "metadata": {},
     "output_type": "execute_result"
    },
    {
     "data": {
      "image/png": "[encoded data removed]",
      "text/plain": [
       "<Figure size 593.111x500 with 1 Axes>"
      ]
     },
     "metadata": {},
     "output_type": "display_data"
    }
   ],
   "source": [
    "# Combine the bank_account_distribution_df and location_type_distribution_df dataframes\n",
    "sns.catplot(data=train, x='bank_account', hue='location_type', kind='count')"
   ]
  },
  {
   "cell_type": "markdown",
   "id": "6eaa3eaf71e79d1",
   "metadata": {},
   "source": [
    "Given the plot above, it might seem natural to assume that most respondents without a bank account are from rural areas. However, we should be cautious with this assumption. The data shows that the majority of respondents, around 85%, do not have a bank account. Consequently, it is expected that there will be more respondents from rural areas without a bank account than those with one. Let us perform a Chi-Squared Test for Independence at $\\alpha = 5\\%$."
   ]
  },
  {
   "cell_type": "markdown",
   "id": "bd8fe9f279b59592",
   "metadata": {},
   "source": [
    "#### Testing for dependency between `bank_account` and `location_type`"
   ]
  },
  {
   "cell_type": "markdown",
   "id": "7cef36a280881995",
   "metadata": {},
   "source": [
    "Here is the formula for the Chi-Squared Test:\n",
    "\n",
    "$$\\chi^2 = \\sum \\frac{(O_i - E_i)^2}{E_i}$$\n",
    "\n",
    "This formula sums the squared difference between observed frequency, $O_i$, and expected frequencies, $E_i$, divided by the expected frequency, for $i=1,2,3,\\dots,n$ "
   ]
  },
  {
   "cell_type": "code",
   "execution_count": 45,
   "id": "b4a49b779ffe02a2",
   "metadata": {
    "ExecuteTime": {
     "end_time": "2024-05-21T16:23:34.156829Z",
     "start_time": "2024-05-21T16:23:34.110236Z"
    }
   },
   "outputs": [
    {
     "name": "stdout",
     "output_type": "stream",
     "text": [
      "Chi-Squared Test Statistic: 178.72103113792548\n",
      "P-value: 9.218844615938627e-41\n",
      "Degrees of Freedom: 1\n",
      "Expected Frequencies:\n",
      "[[12323.61486142  7888.38513858]\n",
      " [ 2019.38513858  1292.61486142]]\n",
      "Reject the null hypothesis: There is a significant relationship between location type and bank account ownership.\n"
     ]
    }
   ],
   "source": [
    "# Construct a contingency table \n",
    "c_table = pd.crosstab(train['bank_account'], train['location_type'])\n",
    "\n",
    "# Perform the Chi-Squared test\n",
    "chi2, p, dof, expected = stats.chi2_contingency(c_table)\n",
    "\n",
    "print(f\"Chi-Squared Test Statistic: {chi2}\")\n",
    "print(f\"P-value: {p}\")\n",
    "print(f\"Degrees of Freedom: {dof}\")\n",
    "print(\"Expected Frequencies:\")\n",
    "print(expected)\n",
    "\n",
    "# Conclusion at 5% significance level\n",
    "if p < 0.05:\n",
    "    print(\"Reject the null hypothesis: There is a significant relationship between location type and bank account ownership.\")\n",
    "else:\n",
    "    print(\"Fail to reject the null hypothesis: There is no significant relationship between location type and bank account ownership.\")"
   ]
  },
  {
   "cell_type": "code",
   "execution_count": 15,
   "id": "84fd4286",
   "metadata": {
    "ExecuteTime": {
     "end_time": "2024-05-21T14:50:29.909715Z",
     "start_time": "2024-05-21T14:50:29.872486Z"
    }
   },
   "outputs": [
    {
     "data": {
      "text/html": [
       "<div>\n",
       "<style scoped>\n",
       "    .dataframe tbody tr th:only-of-type {\n",
       "        vertical-align: middle;\n",
       "    }\n",
       "\n",
       "    .dataframe tbody tr th {\n",
       "        vertical-align: top;\n",
       "    }\n",
       "\n",
       "    .dataframe thead th {\n",
       "        text-align: right;\n",
       "    }\n",
       "</style>\n",
       "<table border=\"1\" class=\"dataframe\">\n",
       "  <thead>\n",
       "    <tr style=\"text-align: right;\">\n",
       "      <th></th>\n",
       "      <th>country</th>\n",
       "      <th>year</th>\n",
       "      <th>uniqueid</th>\n",
       "      <th>bank_account</th>\n",
       "      <th>location_type</th>\n",
       "      <th>cellphone_access</th>\n",
       "      <th>household_size</th>\n",
       "      <th>age_of_respondent</th>\n",
       "      <th>gender_of_respondent</th>\n",
       "      <th>relationship_with_head</th>\n",
       "      <th>marital_status</th>\n",
       "      <th>education_level</th>\n",
       "      <th>job_type</th>\n",
       "    </tr>\n",
       "  </thead>\n",
       "  <tbody>\n",
       "    <tr>\n",
       "      <th>0</th>\n",
       "      <td>Kenya</td>\n",
       "      <td>2018</td>\n",
       "      <td>uniqueid_1</td>\n",
       "      <td>Yes</td>\n",
       "      <td>Rural</td>\n",
       "      <td>Yes</td>\n",
       "      <td>3</td>\n",
       "      <td>24</td>\n",
       "      <td>Female</td>\n",
       "      <td>Spouse</td>\n",
       "      <td>Married/Living together</td>\n",
       "      <td>Secondary education</td>\n",
       "      <td>Self employed</td>\n",
       "    </tr>\n",
       "    <tr>\n",
       "      <th>2</th>\n",
       "      <td>Kenya</td>\n",
       "      <td>2018</td>\n",
       "      <td>uniqueid_3</td>\n",
       "      <td>Yes</td>\n",
       "      <td>Urban</td>\n",
       "      <td>Yes</td>\n",
       "      <td>5</td>\n",
       "      <td>26</td>\n",
       "      <td>Male</td>\n",
       "      <td>Other relative</td>\n",
       "      <td>Single/Never Married</td>\n",
       "      <td>Vocational/Specialised training</td>\n",
       "      <td>Self employed</td>\n",
       "    </tr>\n",
       "    <tr>\n",
       "      <th>8</th>\n",
       "      <td>Kenya</td>\n",
       "      <td>2018</td>\n",
       "      <td>uniqueid_9</td>\n",
       "      <td>Yes</td>\n",
       "      <td>Rural</td>\n",
       "      <td>Yes</td>\n",
       "      <td>3</td>\n",
       "      <td>54</td>\n",
       "      <td>Male</td>\n",
       "      <td>Head of Household</td>\n",
       "      <td>Married/Living together</td>\n",
       "      <td>Secondary education</td>\n",
       "      <td>Farming and Fishing</td>\n",
       "    </tr>\n",
       "    <tr>\n",
       "      <th>11</th>\n",
       "      <td>Kenya</td>\n",
       "      <td>2018</td>\n",
       "      <td>uniqueid_12</td>\n",
       "      <td>Yes</td>\n",
       "      <td>Rural</td>\n",
       "      <td>Yes</td>\n",
       "      <td>3</td>\n",
       "      <td>69</td>\n",
       "      <td>Male</td>\n",
       "      <td>Head of Household</td>\n",
       "      <td>Married/Living together</td>\n",
       "      <td>Secondary education</td>\n",
       "      <td>Other Income</td>\n",
       "    </tr>\n",
       "    <tr>\n",
       "      <th>17</th>\n",
       "      <td>Kenya</td>\n",
       "      <td>2018</td>\n",
       "      <td>uniqueid_18</td>\n",
       "      <td>Yes</td>\n",
       "      <td>Rural</td>\n",
       "      <td>Yes</td>\n",
       "      <td>6</td>\n",
       "      <td>27</td>\n",
       "      <td>Female</td>\n",
       "      <td>Head of Household</td>\n",
       "      <td>Married/Living together</td>\n",
       "      <td>Secondary education</td>\n",
       "      <td>Self employed</td>\n",
       "    </tr>\n",
       "    <tr>\n",
       "      <th>...</th>\n",
       "      <td>...</td>\n",
       "      <td>...</td>\n",
       "      <td>...</td>\n",
       "      <td>...</td>\n",
       "      <td>...</td>\n",
       "      <td>...</td>\n",
       "      <td>...</td>\n",
       "      <td>...</td>\n",
       "      <td>...</td>\n",
       "      <td>...</td>\n",
       "      <td>...</td>\n",
       "      <td>...</td>\n",
       "      <td>...</td>\n",
       "    </tr>\n",
       "    <tr>\n",
       "      <th>23327</th>\n",
       "      <td>Uganda</td>\n",
       "      <td>2018</td>\n",
       "      <td>uniqueid_1905</td>\n",
       "      <td>Yes</td>\n",
       "      <td>Urban</td>\n",
       "      <td>Yes</td>\n",
       "      <td>1</td>\n",
       "      <td>24</td>\n",
       "      <td>Female</td>\n",
       "      <td>Head of Household</td>\n",
       "      <td>Single/Never Married</td>\n",
       "      <td>Secondary education</td>\n",
       "      <td>Other Income</td>\n",
       "    </tr>\n",
       "    <tr>\n",
       "      <th>23331</th>\n",
       "      <td>Uganda</td>\n",
       "      <td>2018</td>\n",
       "      <td>uniqueid_1909</td>\n",
       "      <td>Yes</td>\n",
       "      <td>Rural</td>\n",
       "      <td>Yes</td>\n",
       "      <td>3</td>\n",
       "      <td>26</td>\n",
       "      <td>Female</td>\n",
       "      <td>Head of Household</td>\n",
       "      <td>Married/Living together</td>\n",
       "      <td>Secondary education</td>\n",
       "      <td>Other Income</td>\n",
       "    </tr>\n",
       "    <tr>\n",
       "      <th>23351</th>\n",
       "      <td>Uganda</td>\n",
       "      <td>2018</td>\n",
       "      <td>uniqueid_1929</td>\n",
       "      <td>Yes</td>\n",
       "      <td>Rural</td>\n",
       "      <td>Yes</td>\n",
       "      <td>5</td>\n",
       "      <td>36</td>\n",
       "      <td>Female</td>\n",
       "      <td>Head of Household</td>\n",
       "      <td>Widowed</td>\n",
       "      <td>Primary education</td>\n",
       "      <td>No Income</td>\n",
       "    </tr>\n",
       "    <tr>\n",
       "      <th>23358</th>\n",
       "      <td>Uganda</td>\n",
       "      <td>2018</td>\n",
       "      <td>uniqueid_1936</td>\n",
       "      <td>Yes</td>\n",
       "      <td>Rural</td>\n",
       "      <td>Yes</td>\n",
       "      <td>10</td>\n",
       "      <td>50</td>\n",
       "      <td>Female</td>\n",
       "      <td>Head of Household</td>\n",
       "      <td>Widowed</td>\n",
       "      <td>Primary education</td>\n",
       "      <td>Self employed</td>\n",
       "    </tr>\n",
       "    <tr>\n",
       "      <th>23362</th>\n",
       "      <td>Uganda</td>\n",
       "      <td>2018</td>\n",
       "      <td>uniqueid_1940</td>\n",
       "      <td>Yes</td>\n",
       "      <td>Urban</td>\n",
       "      <td>No</td>\n",
       "      <td>7</td>\n",
       "      <td>18</td>\n",
       "      <td>Female</td>\n",
       "      <td>Parent</td>\n",
       "      <td>Single/Never Married</td>\n",
       "      <td>Secondary education</td>\n",
       "      <td>Other Income</td>\n",
       "    </tr>\n",
       "  </tbody>\n",
       "</table>\n",
       "<p>3312 rows × 13 columns</p>\n",
       "</div>"
      ],
      "text/plain": [
       "      country  year       uniqueid bank_account location_type  \\\n",
       "0       Kenya  2018     uniqueid_1          Yes         Rural   \n",
       "2       Kenya  2018     uniqueid_3          Yes         Urban   \n",
       "8       Kenya  2018     uniqueid_9          Yes         Rural   \n",
       "11      Kenya  2018    uniqueid_12          Yes         Rural   \n",
       "17      Kenya  2018    uniqueid_18          Yes         Rural   \n",
       "...       ...   ...            ...          ...           ...   \n",
       "23327  Uganda  2018  uniqueid_1905          Yes         Urban   \n",
       "23331  Uganda  2018  uniqueid_1909          Yes         Rural   \n",
       "23351  Uganda  2018  uniqueid_1929          Yes         Rural   \n",
       "23358  Uganda  2018  uniqueid_1936          Yes         Rural   \n",
       "23362  Uganda  2018  uniqueid_1940          Yes         Urban   \n",
       "\n",
       "      cellphone_access  household_size  age_of_respondent  \\\n",
       "0                  Yes               3                 24   \n",
       "2                  Yes               5                 26   \n",
       "8                  Yes               3                 54   \n",
       "11                 Yes               3                 69   \n",
       "17                 Yes               6                 27   \n",
       "...                ...             ...                ...   \n",
       "23327              Yes               1                 24   \n",
       "23331              Yes               3                 26   \n",
       "23351              Yes               5                 36   \n",
       "23358              Yes              10                 50   \n",
       "23362               No               7                 18   \n",
       "\n",
       "      gender_of_respondent relationship_with_head           marital_status  \\\n",
       "0                   Female                 Spouse  Married/Living together   \n",
       "2                     Male         Other relative     Single/Never Married   \n",
       "8                     Male      Head of Household  Married/Living together   \n",
       "11                    Male      Head of Household  Married/Living together   \n",
       "17                  Female      Head of Household  Married/Living together   \n",
       "...                    ...                    ...                      ...   \n",
       "23327               Female      Head of Household     Single/Never Married   \n",
       "23331               Female      Head of Household  Married/Living together   \n",
       "23351               Female      Head of Household                  Widowed   \n",
       "23358               Female      Head of Household                  Widowed   \n",
       "23362               Female                 Parent     Single/Never Married   \n",
       "\n",
       "                       education_level             job_type  \n",
       "0                  Secondary education        Self employed  \n",
       "2      Vocational/Specialised training        Self employed  \n",
       "8                  Secondary education  Farming and Fishing  \n",
       "11                 Secondary education         Other Income  \n",
       "17                 Secondary education        Self employed  \n",
       "...                                ...                  ...  \n",
       "23327              Secondary education         Other Income  \n",
       "23331              Secondary education         Other Income  \n",
       "23351                Primary education            No Income  \n",
       "23358                Primary education        Self employed  \n",
       "23362              Secondary education         Other Income  \n",
       "\n",
       "[3312 rows x 13 columns]"
      ]
     },
     "execution_count": 15,
     "metadata": {},
     "output_type": "execute_result"
    }
   ],
   "source": [
    "train[train['bank_account']==\"Yes\"]"
   ]
  },
  {
   "cell_type": "code",
   "execution_count": null,
   "id": "3c379b55",
   "metadata": {},
   "outputs": [],
   "source": []
  },
  {
   "cell_type": "code",
   "execution_count": null,
   "id": "b7dad61b",
   "metadata": {},
   "outputs": [],
   "source": []
  },
  {
   "cell_type": "code",
   "execution_count": null,
   "id": "8bbd168b",
   "metadata": {},
   "outputs": [],
   "source": []
  },
  {
   "cell_type": "code",
   "execution_count": null,
   "id": "23456d7a",
   "metadata": {},
   "outputs": [],
   "source": []
  },
  {
   "cell_type": "code",
   "execution_count": null,
   "id": "c675bd78",
   "metadata": {},
   "outputs": [],
   "source": []
  },
  {
   "cell_type": "code",
   "execution_count": null,
   "id": "911aa084",
   "metadata": {},
   "outputs": [],
   "source": []
  },
  {
   "cell_type": "code",
   "execution_count": null,
   "id": "5dabeb0a",
   "metadata": {},
   "outputs": [],
   "source": []
  },
  {
   "cell_type": "code",
   "execution_count": null,
   "id": "d09c3d7d",
   "metadata": {},
   "outputs": [],
   "source": []
  },
  {
   "cell_type": "code",
   "execution_count": null,
   "id": "605badfb",
   "metadata": {},
   "outputs": [],
   "source": []
  },
  {
   "cell_type": "code",
   "execution_count": null,
   "id": "185e4ed1",
   "metadata": {},
   "outputs": [],
   "source": []
  },
  {
   "cell_type": "code",
   "execution_count": null,
   "id": "2d3f3d40",
   "metadata": {},
   "outputs": [],
   "source": []
  },
  {
   "cell_type": "code",
   "execution_count": null,
   "id": "94fadf56",
   "metadata": {},
   "outputs": [],
   "source": []
  },
  {
   "cell_type": "code",
   "execution_count": null,
   "id": "94e8d294",
   "metadata": {},
   "outputs": [],
   "source": []
  },
  {
   "cell_type": "code",
   "execution_count": null,
   "id": "d6a2c3d5",
   "metadata": {},
   "outputs": [],
   "source": []
  },
  {
   "cell_type": "code",
   "execution_count": null,
   "id": "66f32328",
   "metadata": {},
   "outputs": [],
   "source": []
  },
  {
   "cell_type": "code",
   "execution_count": null,
   "id": "f3a970d6",
   "metadata": {},
   "outputs": [],
   "source": []
  },
  {
   "cell_type": "code",
   "execution_count": null,
   "id": "4086cfee",
   "metadata": {},
   "outputs": [],
   "source": []
  },
  {
   "cell_type": "code",
   "execution_count": null,
   "id": "4b549c4e",
   "metadata": {},
   "outputs": [],
   "source": []
  },
  {
   "cell_type": "code",
   "execution_count": null,
   "id": "528e8502",
   "metadata": {},
   "outputs": [],
   "source": []
  },
  {
   "cell_type": "code",
   "execution_count": null,
   "id": "24dff070",
   "metadata": {},
   "outputs": [],
   "source": []
  },
  {
   "cell_type": "code",
   "execution_count": null,
   "id": "6b77a9e9",
   "metadata": {},
   "outputs": [],
   "source": []
  },
  {
   "cell_type": "code",
   "execution_count": null,
   "id": "0f46524b",
   "metadata": {},
   "outputs": [],
   "source": []
  },
  {
   "cell_type": "code",
   "execution_count": null,
   "id": "8ce3c9a1",
   "metadata": {},
   "outputs": [],
   "source": []
  },
  {
   "cell_type": "code",
   "execution_count": null,
   "id": "0d384d52",
   "metadata": {},
   "outputs": [],
   "source": []
  },
  {
   "cell_type": "code",
   "execution_count": null,
   "id": "4af56223",
   "metadata": {},
   "outputs": [],
   "source": []
  },
  {
   "cell_type": "code",
   "execution_count": null,
   "id": "dc14944d",
   "metadata": {},
   "outputs": [],
   "source": []
  },
  {
   "cell_type": "code",
   "execution_count": null,
   "id": "9c2484f3",
   "metadata": {},
   "outputs": [],
   "source": []
  },
  {
   "cell_type": "code",
   "execution_count": null,
   "id": "37392657",
   "metadata": {},
   "outputs": [],
   "source": []
  },
  {
   "cell_type": "code",
   "execution_count": null,
   "id": "5601369e",
   "metadata": {},
   "outputs": [],
   "source": []
  }
 ],
 "metadata": {
  "kernelspec": {
   "display_name": "Python 3 (ipykernel)",
   "language": "python",
   "name": "python3"
  },
  "language_info": {
   "codemirror_mode": {
    "name": "ipython",
    "version": 3
   },
   "file_extension": ".py",
   "mimetype": "text/x-python",
   "name": "python",
   "nbconvert_exporter": "python",
   "pygments_lexer": "ipython3",
   "version": "3.10.6"
  }
 },
 "nbformat": 4,
 "nbformat_minor": 5
}
